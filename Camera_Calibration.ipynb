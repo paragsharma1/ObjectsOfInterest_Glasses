{
  "nbformat": 4,
  "nbformat_minor": 0,
  "metadata": {
    "colab": {
      "name": "Camera Calibration",
      "provenance": [],
      "collapsed_sections": []
    },
    "kernelspec": {
      "name": "python3",
      "display_name": "Python 3"
    },
    "language_info": {
      "name": "python"
    }
  },
  "cells": [
    {
      "cell_type": "markdown",
      "source": [
        "#STEP 1\n",
        "\n",
        "Add libraries and import the same."
      ],
      "metadata": {
        "id": "SsTuWhDvaWCs"
      }
    },
    {
      "cell_type": "code",
      "source": [
        "!pip install --upgrade tensorflow keras numpy pandas sklearn pillow split-folders wget fast_ml tensorboard matplotlib seaborn"
      ],
      "metadata": {
        "id": "EHOH2i27aJRR"
      },
      "execution_count": null,
      "outputs": []
    },
    {
      "cell_type": "code",
      "source": [
        "import numpy as np\n",
        "import cv2 as cv\n",
        "import glob\n",
        "\n",
        "print (cv.__version__)\n"
      ],
      "metadata": {
        "id": "AjItYFBWaI1o"
      },
      "execution_count": null,
      "outputs": []
    },
    {
      "cell_type": "markdown",
      "source": [
        "# STEP 2\n",
        "Connect to Googel Drive or any other local storage"
      ],
      "metadata": {
        "id": "ALSPQq3Qaa8l"
      }
    },
    {
      "cell_type": "code",
      "source": [
        "drive.mount('/content/drive', force_remount=True)"
      ],
      "metadata": {
        "id": "t6b2ca05ai9T"
      },
      "execution_count": null,
      "outputs": []
    },
    {
      "cell_type": "code",
      "source": [
        "# Set your working directory to a folder in your Google Drive. This way, if your notebook times out,\n",
        "# your files will be saved in your Google Drive!\n",
        "\n",
        "# the base Google Drive directory\n",
        "root_dir = \"/content/drive/My Drive/\"\n",
        "\n",
        "# choose where you want your project files to be saved\n",
        "project_folder = \"CameraCalibration\"\n",
        "\n",
        "def create_and_set_working_directory(project_folder):\n",
        "  # check if your project folder exists. if not, it will be created.\n",
        "  if os.path.isdir(root_dir + project_folder) == False:\n",
        "    os.mkdir(root_dir + project_folder)\n",
        "    print(root_dir + project_folder + ' did not exist but was created.')\n",
        "\n",
        "  # change the OS to use your project folder as the working directory\n",
        "  os.chdir(root_dir + project_folder)\n",
        "\n",
        "  # create a test file to make sure it shows up in the right place\n",
        "  #!touch 'new_file_in_working_directory.txt'\n",
        "  print('\\nYour working directory was changed to ' + root_dir + project_folder + \\\n",
        "        \"\\n\\nYou can also run !pwd to confirm the current working directory.\" )\n",
        "\n",
        "create_and_set_working_directory(project_folder)"
      ],
      "metadata": {
        "id": "Pk4hKzLkalhF"
      },
      "execution_count": null,
      "outputs": []
    },
    {
      "cell_type": "code",
      "source": [
        "!pwd"
      ],
      "metadata": {
        "id": "XPnpzr5Yarq7"
      },
      "execution_count": null,
      "outputs": []
    },
    {
      "cell_type": "code",
      "source": [
        "#Create the directories to store images and other data\n",
        "os.mkdir ('images')\n",
        "os.mkdir ('/images/camera_calibration_images') "
      ],
      "metadata": {
        "id": "91sUJvK7agnL"
      },
      "execution_count": null,
      "outputs": []
    },
    {
      "cell_type": "code",
      "source": [
        "# this creates a symbolic link so that now the path /content/gdrive/My\\ Drive/ is equal to /mydrive\n",
        "!ln -s /content/drive/My\\ Drive/ /mydrive"
      ],
      "metadata": {
        "id": "oIdeT43UbHMf"
      },
      "execution_count": null,
      "outputs": []
    },
    {
      "cell_type": "code",
      "source": [
        "!ls /mydrive/CameraCalibration/"
      ],
      "metadata": {
        "id": "6S0k3EQ_bMSl"
      },
      "execution_count": null,
      "outputs": []
    },
    {
      "cell_type": "markdown",
      "source": [
        "# STEP 3\n",
        "Upload the chessboard images taken from the camera"
      ],
      "metadata": {
        "id": "-HSPOoIgbM_X"
      }
    },
    {
      "cell_type": "code",
      "source": [
        "# Upload IMages"
      ],
      "metadata": {
        "id": "-_mtCUSbbdXz"
      },
      "execution_count": null,
      "outputs": []
    },
    {
      "cell_type": "markdown",
      "source": [
        "# STEP 4\n",
        "CALIBRATE THE CAMERA TO OBTAIN THE PARAMETERS"
      ],
      "metadata": {
        "id": "Ukl2_CGMbhcH"
      }
    },
    {
      "cell_type": "code",
      "execution_count": null,
      "metadata": {
        "id": "eshyLnPnaCsp"
      },
      "outputs": [],
      "source": [
        "# Chess board squares and the frame width, height\n",
        "chessboardSize = (7,7)\n",
        "#chessboardSize = (8,9)\n",
        "frameSize = (1088,1080)\n",
        "\n",
        "# termination criteria\n",
        "criteria = (cv.TERM_CRITERIA_EPS + cv.TERM_CRITERIA_MAX_ITER, 30, 0.001)\n",
        "\n",
        "# prepare the object points\n",
        "# prepare object points, like (0,0,0), (1,0,0), (2,0,0) ....,(6,5,0)\n",
        "objp = np.zeros((7*7,3), np.float32)\n",
        "objp[:,:2] = np.mgrid[0:7,0:7].T.reshape(-1,2)\n",
        "\n",
        "# Arrays to store object points and image points from all the images.\n",
        "objpoints = [] # 3d point in real world space\n",
        "imgpoints = [] # 2d points in image plane.\n",
        "\n",
        "# Directory of images\n",
        "# Local Path\n",
        "#imagePath = 'C:/Users/parag/PycharmProjects/pythonProject1/images/camera_calibration_images/**/*.jpg'\n",
        "\n",
        "# Cloud Path\n",
        "imagePath = '/mydrive/CameraCalibration/images/camera_calibration_images/**/*.jpg'\n",
        "images = glob.glob(imagePath, recursive=True)\n",
        "print(images)\n",
        "\n",
        "# DETECTION\n",
        "for image in images:\n",
        "    print(image)\n",
        "    print('Reading image..')\n",
        "    img = cv.imread(image)\n",
        "    #print(img)\n",
        "    print('Converting to GRAYSCALE')\n",
        "    gray = cv.cvtColor(img, cv.COLOR_BGR2GRAY)\n",
        "    print(gray)\n",
        "\n",
        "\n",
        "    # Let us find the chessboard corners now\n",
        "    ret, corners = cv.findChessboardCorners(gray, (7,7), None)\n",
        "    #corners = np.array([[corner for [corner] in corners]])\n",
        "    print(ret)\n",
        "    #print (corners)\n",
        "\n",
        "    # If objects are found and corners are returned, let us add the image and object points.\n",
        "    if ret == True:\n",
        "        objpoints.append(objp)\n",
        "        corners2 = cv.cornerSubPix(gray, corners, (11, 11), (-1, -1), criteria)\n",
        "        imgpoints.append(corners)\n",
        "\n",
        "        # Draw and display the corners\n",
        "        cv.drawChessboardCorners(img, (7, 7), corners2, ret)\n",
        "        cv.imshow('img', img)\n",
        "        cv.waitKey(500)\n",
        "\n",
        "cv.destroyAllWindows()\n",
        "\n",
        "\n",
        "# CALIBRATION\n",
        "ret, mtx, dist, rvecs, tvecs = cv.calibrateCamera(objpoints, imgpoints, gray.shape[::-1], None, None)\n",
        "\n",
        "print(\"Camera Calibration Done:\", ret)\n",
        "print(\"\\nCamera Matrix:\\n\", mtx)\n",
        "print(\"\\nDistortion Parameters:\\n\", dist)\n",
        "print(\"\\nRotation Vectors:\\n\", rvecs)\n",
        "print(\"\\nTranslation Vectors:\\n\", tvecs)\n",
        "\n",
        "\n",
        "# UN-DISTORTION\n",
        "img = cv.imread('G:\\\\My Drive\\\\SsdMobNet320\\\\data\\\\dataset\\\\val\\\\Glasses\\\\EyeGlasses916.jpg')\n",
        "h,  w = img.shape[:2]\n",
        "#newcameramtx, roi = cv.getOptimalNewCameraMatrix(mtx, dist, (w,h), 1, (w,h))\n",
        "newcameramtx, roi = cv.getOptimalNewCameraMatrix(mtx, dist, (w,h), 0, (w,h))\n",
        "#newcameramtx, roi = cv.getOptimalNewCameraMatrix(mtx, dist, (w,h), 0.5, (w,h))\n",
        "\n",
        "# UN-DISTORT IMAGES NOW\n",
        "# METHOD-1\n",
        "dst = cv.undistort(img, mtx, dist, None, newcameramtx)\n",
        "# crop the image\n",
        "x, y, w, h = roi\n",
        "dst = dst[y:y+h, x:x+w]\n",
        "cv.imwrite('C:/Users/parag/PycharmProjects/pythonProject1/images/camera_calibration_images/calibresult.jpg', dst)\n",
        "\n",
        "# METHOD-2\n",
        "# undistort\n",
        "#mapx, mapy = cv.initUndistortRectifyMap(mtx, dist, None, newcameramtx, (w,h), 5)\n",
        "#dst = cv.remap(img, mapx, mapy, cv.INTER_LINEAR)\n",
        "\"\"\"# crop the image\n",
        "x, y, w, h = roi\n",
        "dst = dst[y:y+h, x:x+w]\"\"\"\n",
        "#cv.imwrite('C:/Users/parag/PycharmProjects/pythonProject1/images/camera_calibration_images/calibresult.jpg', dst)\n",
        "\n",
        "# RE-PROJECTION ERROR\n",
        "mean_error = 0\n",
        "for i in range(len(objpoints)):\n",
        "    imgpoints2, _ = cv.projectPoints(objpoints[i], rvecs[i], tvecs[i], mtx, dist)\n",
        "    error = cv.norm(imgpoints[i], imgpoints2, cv.NORM_L2)/len(imgpoints2)\n",
        "    mean_error += error\n",
        "print( \"total error: {}\".format(mean_error/len(objpoints)) )"
      ]
    }
  ]
}